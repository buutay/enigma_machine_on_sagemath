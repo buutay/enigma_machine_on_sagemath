{
 "cells": [
  {
   "cell_type": "code",
   "execution_count": 1,
   "id": "a10aa492",
   "metadata": {},
   "outputs": [
    {
     "data": {
      "text/plain": [
       "743781"
      ]
     },
     "execution_count": 1,
     "metadata": {},
     "output_type": "execute_result"
    }
   ],
   "source": [
    "Alphabet = [\"_\",\"A\", \"B\", \"C\", \"D\", \"E\", \"F\", \"G\", \"H\", \"I\", \"J\", \"K\", \"L\", \"M\", \"N\", \"O\", \"P\", \"Q\", \"R\", \"S\", \"T\", \"U\", \"V\", \"W\", \"X\", \"Y\", \"Z\", \" \"]\n",
    "Rotor_1 = Permutation([5, 11, 13, 6, 12, 7, 4, 17, 22, 26, 14, 20, 15, 23, 25, 8, 24, 21, 19, 16, 1, 9, 2, 18, 3, 10, 27]).to_permutation_group_element()\n",
    "Rotor_2 = Permutation([1, 10, 4, 11, 19, 9, 18, 21, 24, 2, 12, 8, 23, 20, 13, 3, 17, 7, 26, 14, 16, 25, 6, 22, 15, 5, 27]).to_permutation_group_element()\n",
    "Rotor_3 = Permutation([2, 4, 6, 8, 10, 12, 3, 16, 18, 20, 24, 22, 26, 14, 25, 5, 9, 23, 7, 1, 11, 13, 21, 19, 17, 15, 27]).to_permutation_group_element()\n",
    "#Rotor_4 = Permutation()\n",
    "#Rotor_5 = Permutation()\n",
    "#Rotor_6 = Permutation()\n",
    "#Rotor_7 = Permutation()\n",
    "#Rotor_8 = Permutation()\n",
    "#Rotor_Beta = Permutation()\n",
    "#Rotor_Gamma = Permutation()\n",
    "Reflector_B = Permutation('(1, 25)(2, 18)(3, 21)(4, 8)(5, 17)(6, 19)(7, 12)(9, 16)(10, 24)(11, 14)(13, 15)(20, 26)(22, 23)(27)').to_permutation_group_element()\n",
    "Plugboard = Permutation([10, 2, 3, 4, 5, 6, 7, 8, 9, 1, 11, 12, 13, 14, 19, 16, 17, 18, 15, 20, 21, 22, 23, 24, 25, 26, 27]).to_permutation_group_element() #Переставлены S-O и J-A\n",
    "Step = Permutation('(1, 2, 3, 4, 5, 6, 7, 8, 9, 10, 11, 12, 13, 14, 15, 16, 17, 18, 19, 20, 21, 22, 23, 24, 25, 26, 27)').to_permutation_group_element()\n",
    "whitelist = set(' ABCDEFGHIJKLMNOPQRSTUVWXYZ')\n",
    "file = open('pg1056.txt',  'r')\n",
    "TEXT = file.read().upper()\n",
    "file.close()\n",
    "TEXT = ''.join(filter(whitelist.__contains__, TEXT))\n",
    "code = []\n",
    "for i in [0..len(TEXT)-1]:\n",
    "    for j in [0..len(Alphabet)-1]:\n",
    "        if TEXT[i] == Alphabet[j]:\n",
    "            code.append(j)\n",
    "message = ''\n",
    "message_code = []\n",
    "i = 18\n",
    "j = 6\n",
    "k = 23\n",
    "n = 0\n",
    "while n <= len(code)-1:\n",
    "    Enigma = Plugboard*((Step^(i%26)*Rotor_1*(Step.inverse()^(i%26))))*((Step^(j%26)*Rotor_2*(Step.inverse()^(j%26))))*((Step^(k%26)*Rotor_3*(Step.inverse()^(k%26))))*Reflector_B*((Step^(k%26)*Rotor_3.inverse()*(Step.inverse()^(k%26))))*((Step^(j%26)*Rotor_2.inverse()*(Step.inverse()^(j%26))))*((Step^(i%26)*Rotor_1.inverse()*(Step.inverse()^(i%26))))*Plugboard.inverse()\n",
    "    message_code.append(Enigma(code[n]))\n",
    "    message = message+Alphabet[message_code[n]]\n",
    "    i = i + 1\n",
    "    if i%26 == 0:\n",
    "        j = j + 1\n",
    "        if j%26 == 0:\n",
    "            k = k + 1\n",
    "    n = n + 1\n",
    "file_ans = open('answer.txt',  'w')\n",
    "file_ans.write(message)"
   ]
  },
  {
   "cell_type": "code",
   "execution_count": 2,
   "id": "ff394bd5",
   "metadata": {},
   "outputs": [
    {
     "data": {
      "text/plain": [
       "743781"
      ]
     },
     "execution_count": 2,
     "metadata": {},
     "output_type": "execute_result"
    }
   ],
   "source": [
    "Alphabet = [\"_\",\"A\", \"B\", \"C\", \"D\", \"E\", \"F\", \"G\", \"H\", \"I\", \"J\", \"K\", \"L\", \"M\", \"N\", \"O\", \"P\", \"Q\", \"R\", \"S\", \"T\", \"U\", \"V\", \"W\", \"X\", \"Y\", \"Z\", \" \"]\n",
    "Rotor_1 = Permutation([5, 11, 13, 6, 12, 7, 4, 17, 22, 26, 14, 20, 15, 23, 25, 8, 24, 21, 19, 16, 1, 9, 2, 18, 3, 10, 27]).to_permutation_group_element()\n",
    "Rotor_2 = Permutation([1, 10, 4, 11, 19, 9, 18, 21, 24, 2, 12, 8, 23, 20, 13, 3, 17, 7, 26, 14, 16, 25, 6, 22, 15, 5, 27]).to_permutation_group_element()\n",
    "Rotor_3 = Permutation([2, 4, 6, 8, 10, 12, 3, 16, 18, 20, 24, 22, 26, 14, 25, 5, 9, 23, 7, 1, 11, 13, 21, 19, 17, 15, 27]).to_permutation_group_element()\n",
    "#Rotor_4 = Permutation()\n",
    "#Rotor_5 = Permutation()\n",
    "#Rotor_6 = Permutation()\n",
    "#Rotor_7 = Permutation()\n",
    "#Rotor_8 = Permutation()\n",
    "#Rotor_Beta = Permutation()\n",
    "#Rotor_Gamma = Permutation()\n",
    "Reflector_B = Permutation('(1, 25)(2, 18)(3, 21)(4, 8)(5, 17)(6, 19)(7, 12)(9, 16)(10, 24)(11, 14)(13, 15)(20, 26)(22, 23)(27)').to_permutation_group_element()\n",
    "Plugboard = Permutation([10, 2, 3, 4, 5, 6, 7, 8, 9, 1, 11, 12, 13, 14, 19, 16, 17, 18, 15, 20, 21, 22, 23, 24, 25, 26, 27]).to_permutation_group_element() #Переставлены S-O и J-A\n",
    "Step = Permutation('(1, 2, 3, 4, 5, 6, 7, 8, 9, 10, 11, 12, 13, 14, 15, 16, 17, 18, 19, 20, 21, 22, 23, 24, 25, 26, 27)').to_permutation_group_element()\n",
    "file = open('answer.txt',  'r')\n",
    "TEXT = file.read()\n",
    "file.close()\n",
    "code = []\n",
    "for i in [0..len(TEXT)-1]:\n",
    "    for j in [0..len(Alphabet)-1]:\n",
    "        if TEXT[i] == Alphabet[j]:\n",
    "            code.append(j)\n",
    "message = ''\n",
    "message_code = []\n",
    "i = 18\n",
    "j = 6\n",
    "k = 23\n",
    "n = 0\n",
    "while n <= len(code)-1:\n",
    "    Enigma = Plugboard*((Step^(i%26)*Rotor_1*(Step.inverse()^(i%26))))*((Step^(j%26)*Rotor_2*(Step.inverse()^(j%26))))*((Step^(k%26)*Rotor_3*(Step.inverse()^(k%26))))*Reflector_B*((Step^(k%26)*Rotor_3.inverse()*(Step.inverse()^(k%26))))*((Step^(j%26)*Rotor_2.inverse()*(Step.inverse()^(j%26))))*((Step^(i%26)*Rotor_1.inverse()*(Step.inverse()^(i%26))))*Plugboard.inverse()\n",
    "    message_code.append(Enigma(code[n]))\n",
    "    message = message+Alphabet[message_code[n]]\n",
    "    i = i + 1\n",
    "    if i%26 == 0:\n",
    "        j = j + 1\n",
    "        if j%26 == 0:\n",
    "            k = k + 1\n",
    "    n = n + 1\n",
    "file_ans = open('answer_decode.txt',  'w')\n",
    "file_ans.write(message)"
   ]
  },
  {
   "cell_type": "code",
   "execution_count": null,
   "id": "694045d7",
   "metadata": {},
   "outputs": [],
   "source": []
  }
 ],
 "metadata": {
  "kernelspec": {
   "display_name": "SageMath 9.5",
   "language": "sage",
   "name": "sagemath"
  },
  "language_info": {
   "codemirror_mode": {
    "name": "ipython",
    "version": 3
   },
   "file_extension": ".py",
   "mimetype": "text/x-python",
   "name": "python",
   "nbconvert_exporter": "python",
   "pygments_lexer": "ipython3",
   "version": "3.11.2"
  }
 },
 "nbformat": 4,
 "nbformat_minor": 5
}
